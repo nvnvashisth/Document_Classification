{
 "cells": [
  {
   "cell_type": "markdown",
   "metadata": {},
   "source": [
    "## Document Classification for MIT Dataset"
   ]
  },
  {
   "cell_type": "code",
   "execution_count": 46,
   "metadata": {},
   "outputs": [],
   "source": [
    "import io\n",
    "import re\n",
    "import string\n",
    "import os\n",
    "import pandas as pd\n",
    "import numpy as np\n",
    "import nltk\n",
    "from nltk.corpus import stopwords\n",
    "from nltk.stem import WordNetLemmatizer\n",
    "from sklearn.naive_bayes import MultinomialNB\n",
    "from sklearn import metrics\n",
    "from sklearn.model_selection import train_test_split\n",
    "from sklearn.pipeline import Pipeline\n",
    "from sklearn.feature_extraction.text import CountVectorizer\n",
    "from sklearn.feature_extraction.text import TfidfTransformer\n",
    "from sklearn.linear_model import SGDClassifier\n",
    "from sklearn.neural_network import MLPClassifier"
   ]
  },
  {
   "cell_type": "markdown",
   "metadata": {},
   "source": [
    "    List of stopwords in English category"
   ]
  },
  {
   "cell_type": "code",
   "execution_count": 15,
   "metadata": {},
   "outputs": [],
   "source": [
    "stop_words = set(stopwords.words('english'))"
   ]
  },
  {
   "cell_type": "markdown",
   "metadata": {},
   "source": [
    "    Import the Label present in the excel file and Store it in List"
   ]
  },
  {
   "cell_type": "code",
   "execution_count": 16,
   "metadata": {},
   "outputs": [],
   "source": [
    "file_loc = \"Labels.xlsx\"\n",
    "df = pd.read_excel(file_loc, index_col=None, na_values=['NA'], usecols = \"A,B\")\n",
    "sub_name = df[\"course\"].tolist()"
   ]
  },
  {
   "cell_type": "markdown",
   "metadata": {},
   "source": [
    "    Subject name and the final text of each document"
   ]
  },
  {
   "cell_type": "code",
   "execution_count": 17,
   "metadata": {},
   "outputs": [],
   "source": [
    "subject_name = []\n",
    "final_txt = []\n",
    "complete_path = []"
   ]
  },
  {
   "cell_type": "markdown",
   "metadata": {},
   "source": [
    "    Read the document and the further pre-processing"
   ]
  },
  {
   "cell_type": "code",
   "execution_count": 23,
   "metadata": {},
   "outputs": [],
   "source": [
    "#Path where all pdf are present\n",
    "# base = \"C:\\\\Users\\\\vnitin\\\\Documents\\\\Dataset\\\\\"\n",
    "base = \"C:\\\\Users\\\\vnitin\\\\Documents\\\\Processed\\\\\"\n",
    "for path in os.listdir(base):\n",
    "    for file in os.listdir(os.path.join(base, path)):\n",
    "        if file.endswith(\".txt\"):\n",
    "            full_path = os.path.join((os.path.join(base, path)),file)\n",
    "            pdf = open(full_path, encoding=\"utf8\")\n",
    "            complete_path.append(full_path)\n",
    "            \n",
    "            #List of all to which the document need to be classified\n",
    "            subject_name.append(path)\n",
    "            \n",
    "            #Convert all content to lowercase\n",
    "            pdf_content = pdf.read().lower()\n",
    "            \n",
    "            #remove text of length till 3\n",
    "            cleared = re.sub(r'\\b\\w{1,3}\\b', '', pdf_content)\n",
    "            \n",
    "            #remove all junk character and numbers apart from letters\n",
    "            cleared_text = re.sub('[^a-zA-Z]+', ' ', cleared)\n",
    "\n",
    "            #lemmatization is a task to shorten up the long word with the meaningful dictionary word\n",
    "            \n",
    "            processed_txt = \"\"\n",
    "            words = cleared_text.split()\n",
    "            lemmatizer = WordNetLemmatizer()\n",
    "            for r in words:\n",
    "                if not r in stop_words:\n",
    "                    processed_txt+=str(str(lemmatizer.lemmatize(r) + \" \"))\n",
    "            final_txt.append(processed_txt)\n",
    "#print(final_txt)"
   ]
  },
  {
   "cell_type": "markdown",
   "metadata": {},
   "source": [
    "    Split the dataset into training and test set"
   ]
  },
  {
   "cell_type": "code",
   "execution_count": 24,
   "metadata": {},
   "outputs": [],
   "source": [
    "X_train, X_test, y_train, y_test, z_train, z_test = train_test_split(final_txt, subject_name, complete_path,test_size = 0.2, random_state=42)"
   ]
  },
  {
   "cell_type": "markdown",
   "metadata": {},
   "source": [
    "    Build the pipeline with countVectorizer, TfidfVectorizer and model"
   ]
  },
  {
   "cell_type": "code",
   "execution_count": 30,
   "metadata": {},
   "outputs": [],
   "source": [
    "#clf = Pipeline([('vect', CountVectorizer()), ('tfidf', TfidfTransformer()), ('clf', MultinomialNB())])"
   ]
  },
  {
   "cell_type": "code",
   "execution_count": 50,
   "metadata": {},
   "outputs": [],
   "source": [
    "clf = Pipeline([('vect', CountVectorizer()),('tfidf', TfidfTransformer()),('clf', SGDClassifier(loss='hinge', penalty='l2',alpha=1e-3, random_state=42,max_iter=5, tol=None))])"
   ]
  },
  {
   "cell_type": "code",
   "execution_count": 47,
   "metadata": {},
   "outputs": [],
   "source": [
    "#clf = Pipeline([('vect', CountVectorizer()),('tfidf', TfidfTransformer()),('clf', MLPClassifier(activation='relu', solver='lbfgs', alpha=1e-5, hidden_layer_sizes=(15,), random_state=1))])"
   ]
  },
  {
   "cell_type": "markdown",
   "metadata": {},
   "source": [
    "    Fit into a model ex. Multinomial Naive Bias Classifier"
   ]
  },
  {
   "cell_type": "code",
   "execution_count": 51,
   "metadata": {},
   "outputs": [],
   "source": [
    "clf.fit(X_train, y_train)\n",
    "predicted = clf.predict(X_test)"
   ]
  },
  {
   "cell_type": "markdown",
   "metadata": {},
   "source": [
    "    Prediction testing and accuracy check"
   ]
  },
  {
   "cell_type": "code",
   "execution_count": 52,
   "metadata": {},
   "outputs": [
    {
     "name": "stdout",
     "output_type": "stream",
     "text": [
      "0.7271274470635237\n"
     ]
    }
   ],
   "source": [
    "#for doc, category in zip(z_test, predicted):\n",
    "#    print(doc,\"=>\",category)\n",
    "\n",
    "print(np.mean(predicted == y_test))"
   ]
  }
 ],
 "metadata": {
  "kernelspec": {
   "display_name": "Python 3",
   "language": "python",
   "name": "python3"
  },
  "language_info": {
   "codemirror_mode": {
    "name": "ipython",
    "version": 3
   },
   "file_extension": ".py",
   "mimetype": "text/x-python",
   "name": "python",
   "nbconvert_exporter": "python",
   "pygments_lexer": "ipython3",
   "version": "3.6.4"
  }
 },
 "nbformat": 4,
 "nbformat_minor": 2
}
